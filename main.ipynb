{
 "cells": [
  {
   "cell_type": "code",
   "execution_count": 1,
   "metadata": {},
   "outputs": [],
   "source": [
    "import pandas as pd\n",
    "\n",
    "materiais_df = pd.read_excel(\"produtos_precos.xlsx\")\n",
    "\n",
    "def vender(produto, quantidade_vendida):\n",
    "    if produto in materiais_df['Produto'].values:\n",
    "        materiais_df.loc[materiais_df['Produto'] == produto, 'Quantidade'] -= quantidade_vendida\n",
    "        \n",
    "        print(f\"{quantidade_vendida} unidades de {produto} foram vendidas.\")\n",
    "    else:\n",
    "        print(f\"Produto '{produto}' não encontrado.\")"
   ]
  },
  {
   "cell_type": "code",
   "execution_count": 2,
   "metadata": {},
   "outputs": [
    {
     "name": "stdout",
     "output_type": "stream",
     "text": [
      "\n",
      "Menu:\n",
      "1. Vender produto\n",
      "2. Visualizar lucro total\n",
      "3. Sair\n",
      "\n",
      "Menu:\n",
      "1. Vender produto\n",
      "2. Visualizar lucro total\n",
      "3. Sair\n"
     ]
    }
   ],
   "source": [
    "while True:\n",
    "    print(\"\\nMenu:\")\n",
    "    print(\"1. Vender produto\")\n",
    "    print(\"2. Visualizar lucro total\")\n",
    "    print(\"3. Sair\")\n",
    "\n",
    "\n",
    "    escolha = input(\"Escolha uma opção (1/2/3): \")\n",
    "\n",
    "    if escolha == '1':\n",
    "        produto = input(\"Digite o nome do produto: \")\n",
    "        quantidade = int(input(\"Digite a quantidade vendida: \"))\n",
    "        vender(produto, quantidade)\n",
    "        \n",
    "    elif escolha == '3':\n",
    "        break"
   ]
  }
 ],
 "metadata": {
  "kernelspec": {
   "display_name": "Python 3",
   "language": "python",
   "name": "python3"
  },
  "language_info": {
   "codemirror_mode": {
    "name": "ipython",
    "version": 3
   },
   "file_extension": ".py",
   "mimetype": "text/x-python",
   "name": "python",
   "nbconvert_exporter": "python",
   "pygments_lexer": "ipython3",
   "version": "3.10.6"
  },
  "orig_nbformat": 4
 },
 "nbformat": 4,
 "nbformat_minor": 2
}
