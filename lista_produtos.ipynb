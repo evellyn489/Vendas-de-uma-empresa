{
 "cells": [
  {
   "cell_type": "markdown",
   "metadata": {},
   "source": [
    "Manipular o dataset produtos.xlsx para:\n",
    "1. Mudar o nome da coluna \"Quantidade\" para \"Quantidade no estoque\"\n",
    "2. Adicionar mais dez na quantidade de produtos no estoque, a fim de aumentar a quantidade de produtos disponíveis\n",
    "3. Multiplicar toda a coluna do preço de venda por 1.20 pois isso representa um acréscimo de 20% na venda\n",
    "4. Adicionar a coluna de quantidade vendida\n",
    "5. Remover do dataset os produtos repetidos\n",
    "5. Extrair apenas as colunas \"Produto\", \"Valor Unitário\" e \"Quantidade\". "
   ]
  },
  {
   "cell_type": "code",
   "execution_count": null,
   "metadata": {},
   "outputs": [],
   "source": [
    "import pandas as pd\n",
    "\n",
    "vendas_df = pd.read_excel(\"produtos.xlsx\")\n",
    "\n",
    "vendas_df.rename(columns={'Quantidade': 'Quantidade no Estoque'}, inplace=True)\n",
    "\n",
    "vendas_df['Quantidade no Estoque'] += 10\n",
    "vendas_df.loc[:, \"Preço de Venda\"] = vendas_df['Valor Unitário'] * 1.20\n",
    "vendas_df.loc[:, \"Quantidade Vendida\"] = 0\n",
    "materiais_df_sem_duplicatas = vendas_df.drop_duplicates(subset=['Produto'])\n",
    "\n",
    "produtos = materiais_df_sem_duplicatas[['Produto', 'Valor Unitário', 'Preço de Venda', 'Quantidade no Estoque', 'Quantidade Vendida']]\n",
    "\n",
    "novo_arquivo = \"produtos_precos.xlsx\"\n",
    "produtos.to_excel(novo_arquivo, index=False)"
   ]
  }
 ],
 "metadata": {
  "kernelspec": {
   "display_name": "Python 3",
   "language": "python",
   "name": "python3"
  },
  "language_info": {
   "codemirror_mode": {
    "name": "ipython",
    "version": 3
   },
   "file_extension": ".py",
   "mimetype": "text/x-python",
   "name": "python",
   "nbconvert_exporter": "python",
   "pygments_lexer": "ipython3",
   "version": "3.10.6"
  },
  "orig_nbformat": 4
 },
 "nbformat": 4,
 "nbformat_minor": 2
}
