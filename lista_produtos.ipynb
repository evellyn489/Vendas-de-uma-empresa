{
 "cells": [
  {
   "cell_type": "markdown",
   "metadata": {},
   "source": [
    "Manipular o dataset produtos.xlsx para adicionar mais dez na quantidade de produtos, adicionar a coluna de quantidade vendida, eliminar repetição de produtos, extrair apenas as colunas \"Produto\", \"Valor Unitário\" e \"Quantidade\". "
   ]
  },
  {
   "cell_type": "code",
   "execution_count": 22,
   "metadata": {},
   "outputs": [],
   "source": [
    "import pandas as pd\n",
    "\n",
    "vendas_df = pd.read_excel(\"produtos.xlsx\")\n",
    "\n",
    "vendas_df['Quantidade'] += 10\n",
    "vendas_df.loc[:, \"Preço de Venda\"] = vendas_df['Valor Unitário'] * 1.20\n",
    "vendas_df.loc[:, \"Quantidade Vendida\"] = 0\n",
    "materiais_df_sem_duplicatas = vendas_df.drop_duplicates(subset=['Produto'])\n",
    "\n",
    "produtos = materiais_df_sem_duplicatas[['Produto', 'Valor Unitário', 'Preço de Venda', 'Quantidade', 'Quantidade Vendida']]\n",
    "\n",
    "novo_arquivo = \"produtos_precos.xlsx\"\n",
    "produtos.to_excel(novo_arquivo, index=False)"
   ]
  }
 ],
 "metadata": {
  "kernelspec": {
   "display_name": "Python 3",
   "language": "python",
   "name": "python3"
  },
  "language_info": {
   "codemirror_mode": {
    "name": "ipython",
    "version": 3
   },
   "file_extension": ".py",
   "mimetype": "text/x-python",
   "name": "python",
   "nbconvert_exporter": "python",
   "pygments_lexer": "ipython3",
   "version": "3.10.6"
  },
  "orig_nbformat": 4
 },
 "nbformat": 4,
 "nbformat_minor": 2
}
